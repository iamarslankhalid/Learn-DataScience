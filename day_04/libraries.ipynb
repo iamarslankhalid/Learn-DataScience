{
 "cells": [
  {
   "cell_type": "markdown",
   "metadata": {},
   "source": [
    "bary bary lihky huw aprogrammas hum utilizes kr shkty hain "
   ]
  },
  {
   "cell_type": "markdown",
   "metadata": {},
   "source": [
    "1. pandas --> data frames / data handle\n",
    "2. numpy --> data types / dimensional data\n",
    "3. matplotlib --> plot / graphs\n",
    "4. seaborn -->  statistical plots\n",
    "5. plotly -->  interactive plots\n",
    "6. scipy --> (scipystats / scipy.stats ) --> stats\n",
    "7. scikit-learn --> prediction / machine learning\n",
    "8. streamlit --> dashboard\n"
   ]
  },
  {
   "cell_type": "code",
   "execution_count": null,
   "metadata": {},
   "outputs": [],
   "source": [
    "# pip install pandas numpy matplotlib seaborn plotly"
   ]
  },
  {
   "cell_type": "code",
   "execution_count": null,
   "metadata": {},
   "outputs": [],
   "source": [
    "import pandas as pd\n",
    "import numpy as np\n",
    "import matplotlib.pyplot as plt\n",
    "import seaborn as sns \n",
    "import plotly as px\n"
   ]
  },
  {
   "cell_type": "code",
   "execution_count": null,
   "metadata": {},
   "outputs": [],
   "source": [
    "#plot\n",
    "import seaborn as sns\n",
    "sns.set_theme(style=\"whitegrid\")\n",
    "\n",
    "diamonds = sns.load_dataset(\"diamonds\")\n",
    "clarity_ranking = [\"I1\", \"SI2\", \"SI1\", \"VS2\", \"vs1\", \"vvs2\", \"vvs1\" , \"IF\"]\n",
    "\n",
    "sns.boxenplot(x=\"clarity\", y=\"carat\", color= \"b\", order=clarity_ranking, scale=\"linear\", data=diamonds)\n"
   ]
  }
 ],
 "metadata": {
  "kernelspec": {
   "display_name": "Python 3",
   "language": "python",
   "name": "python3"
  },
  "language_info": {
   "codemirror_mode": {
    "name": "ipython",
    "version": 3
   },
   "file_extension": ".py",
   "mimetype": "text/x-python",
   "name": "python",
   "nbconvert_exporter": "python",
   "pygments_lexer": "ipython3",
   "version": "3.12.1"
  }
 },
 "nbformat": 4,
 "nbformat_minor": 2
}
